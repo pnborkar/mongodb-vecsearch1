{
 "cells": [
  {
   "cell_type": "code",
   "execution_count": 4,
   "id": "789b0467",
   "metadata": {},
   "outputs": [],
   "source": [
    "import pymongo\n",
    "import os\n",
    "import openai\n",
    "\n",
    "client = pymongo.MongoClient(\"mongodb+srv://<username>:<password>@cluster0.vtuioyd.mongodb.net/\")\n",
    "db = client.sample_mflix\n",
    "collection = db.embedded_movies\n",
    "openai.api_key = \"<api token>\"\n",
    "model = \"text-embedding-ada-002\""
   ]
  },
  {
   "cell_type": "code",
   "execution_count": 5,
   "id": "05312710",
   "metadata": {},
   "outputs": [],
   "source": [
    "def generate_embedding(text: str) -> list[float]:\n",
    "\tresp = openai.Embedding.create(\n",
    "\t\tinput=[text], \n",
    "\t\tmodel=model)\n",
    "\n",
    "\treturn resp[\"data\"][0][\"embedding\"] "
   ]
  },
  {
   "cell_type": "code",
   "execution_count": 6,
   "id": "122e0bb7",
   "metadata": {},
   "outputs": [
    {
     "name": "stdout",
     "output_type": "stream",
     "text": [
      "\n",
      "Looking for movies with the following plot —> \"imaginary characters from outer space at war\"\n",
      ">\n",
      "\n",
      "Movie Name: V: The Final Battle,\n",
      "Movie Plot: A small group of human resistance fighters fight a desperate guerilla war against the genocidal extra-terrestrials who dominate Earth.\n",
      "\n",
      "Movie Name: Pixels,\n",
      "Movie Plot: When aliens misinterpret video feeds of classic arcade games as a declaration of war, they attack the Earth in the form of the video games.\n",
      "\n",
      "Movie Name: Futurama: Bender's Game,\n",
      "Movie Plot: The Planet Express crew get trapped in a fantasy world.\n",
      "\n",
      "Movie Name: Guardians of the Galaxy,\n",
      "Movie Plot: A group of intergalactic criminals are forced to work together to stop a fanatical warrior from taking control of the universe.\n",
      "\n",
      "Movie Name: Guardians of the Galaxy,\n",
      "Movie Plot: A group of intergalactic criminals are forced to work together to stop a fanatical warrior from taking control of the universe.\n",
      "\n",
      "Movie Name: Battlestar Galactica,\n",
      "Movie Plot: A re-imagining of the original series in which a \"rag-tag fugitive fleet\" of the last remnants of mankind flees pursuing robots while simultaneously searching for their true home, Earth.\n",
      "\n",
      "Movie Name: Starship Troopers,\n",
      "Movie Plot: Humans in a fascistic, militaristic future do battle with giant alien bugs in a fight for survival.\n",
      "\n",
      "Movie Name: Buck Rogers in the 25th Century,\n",
      "Movie Plot: A 20th century astronaut emerges out of 500 years of suspended animation into a future time where Earth is threatened by alien invaders.\n",
      "\n",
      "Movie Name: The Iron Giant,\n",
      "Movie Plot: A boy makes friend with a robot from outer space, but the army are not happy with a robot in the city.\n",
      "\n",
      "Movie Name: Battle Beyond the Stars,\n",
      "Movie Plot: A young farmer sets out to recruit mercenaries to defend his peaceful planet, which is under threat of invasion by the evil tyrant Sador and his armada of aggressors.\n",
      "\n"
     ]
    }
   ],
   "source": [
    "query = \"imaginary characters from outer space at war\"\n",
    "print('\\nLooking for movies with the following plot —> \\\"' + query + \"\\\"\" )\n",
    "print(\">\\n\")\n",
    "results = collection.aggregate([\n",
    "    {\n",
    "        '$search': {\n",
    "            \"index\": \"PlotSearch\",\n",
    "            \"knnBeta\": {\n",
    "                \"vector\": generate_embedding(query),\n",
    "                \"k\": 10,\n",
    "                \"path\": \"plot_embedding\"}\n",
    "        }\n",
    "    }\n",
    "])\n",
    "\n",
    "for document in results:\n",
    "    print(f'Movie Name: {document[\"title\"]},\\nMovie Plot: {document[\"plot\"]}\\n')"
   ]
  }
 ],
 "metadata": {
  "kernelspec": {
   "display_name": "Python 3 (ipykernel)",
   "language": "python",
   "name": "python3"
  },
  "language_info": {
   "codemirror_mode": {
    "name": "ipython",
    "version": 3
   },
   "file_extension": ".py",
   "mimetype": "text/x-python",
   "name": "python",
   "nbconvert_exporter": "python",
   "pygments_lexer": "ipython3",
   "version": "3.11.4"
  }
 },
 "nbformat": 4,
 "nbformat_minor": 5
}
